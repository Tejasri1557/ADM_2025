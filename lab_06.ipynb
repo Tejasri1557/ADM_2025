{
  "nbformat": 4,
  "nbformat_minor": 0,
  "metadata": {
    "colab": {
      "provenance": [],
      "authorship_tag": "ABX9TyNmdD5ILc8mOeh5O0hcjEvM",
      "include_colab_link": true
    },
    "kernelspec": {
      "name": "python3",
      "display_name": "Python 3"
    },
    "language_info": {
      "name": "python"
    }
  },
  "cells": [
    {
      "cell_type": "markdown",
      "metadata": {
        "id": "view-in-github",
        "colab_type": "text"
      },
      "source": [
        "<a href=\"https://colab.research.google.com/github/Tejasri1557/ADM_2025/blob/main/lab_06.ipynb\" target=\"_parent\"><img src=\"https://colab.research.google.com/assets/colab-badge.svg\" alt=\"Open In Colab\"/></a>"
      ]
    },
    {
      "cell_type": "markdown",
      "source": [
        "1. Data Encoding"
      ],
      "metadata": {
        "id": "3NTBVXCxPRY0"
      }
    },
    {
      "cell_type": "code",
      "execution_count": 2,
      "metadata": {
        "colab": {
          "base_uri": "https://localhost:8080/"
        },
        "id": "XiFmNalCN15X",
        "outputId": "26c64644-6a55-4571-ec9b-8a0aeff497c7"
      },
      "outputs": [
        {
          "output_type": "stream",
          "name": "stdout",
          "text": [
            "  Category  Label_Encoded  Category_blue  Category_green  Category_red\n",
            "0      red              2          False           False          True\n",
            "1     blue              0           True           False         False\n",
            "2    green              1          False            True         False\n"
          ]
        }
      ],
      "source": [
        "import pandas as pd\n",
        "from sklearn.preprocessing import LabelEncoder, OneHotEncoder\n",
        "# Example data\n",
        "data = {'Category': ['red','blue','green']}\n",
        "df = pd.DataFrame(data)\n",
        "# Label Encoding\n",
        "label_encoder = LabelEncoder()\n",
        "df['Label_Encoded'] = label_encoder.fit_transform(df['Category'])\n",
        "# One-hot Encoding\n",
        "one_hot_encoded = pd.get_dummies(df['Category'], prefix='Category')\n",
        "df = pd.concat([df, one_hot_encoded], axis=1)\n",
        "print(df)\n"
      ]
    },
    {
      "cell_type": "markdown",
      "source": [
        "2. Creating Derived Columns"
      ],
      "metadata": {
        "id": "Bf461Cy9Pofp"
      }
    },
    {
      "cell_type": "code",
      "source": [
        "from datetime import datetime\n",
        "# Example data\n",
        "data = {'Name': ['teju', 'chikky'], 'Date_of_Birth': ['2006-05-25', '2006-08-23']}\n",
        "df = pd.DataFrame(data)\n",
        "# Convert Date_of_Birth to datetime\n",
        "df['Date_of_Birth'] = pd.to_datetime(df['Date_of_Birth'])\n",
        "# Calculate Age\n",
        "current_year = datetime.now().year\n",
        "df['Age'] = current_year - df['Date_of_Birth'].dt.year\n",
        "print(df)\n"
      ],
      "metadata": {
        "colab": {
          "base_uri": "https://localhost:8080/"
        },
        "id": "8rzlp1UYPpHA",
        "outputId": "ff5f0b8b-cd8a-4702-838d-e43900d342f2"
      },
      "execution_count": 10,
      "outputs": [
        {
          "output_type": "stream",
          "name": "stdout",
          "text": [
            "     Name Date_of_Birth  Age\n",
            "0    teju    2006-05-25   19\n",
            "1  chikky    2006-08-23   19\n"
          ]
        }
      ]
    },
    {
      "cell_type": "markdown",
      "source": [
        "3. Grouping and Aggregating Data"
      ],
      "metadata": {
        "id": "EC7W9kEYP2pg"
      }
    },
    {
      "cell_type": "code",
      "source": [
        "# Example data\n",
        "data = {'Category': ['A1', 'B1', 'C1', 'D1', 'D2'],\n",
        " 'Value': [10, 20, 10, 30, 40]}\n",
        "df = pd.DataFrame(data)\n",
        "# Group by and aggregate\n",
        "grouped = df.groupby('Category').agg({'Value': ['sum', 'mean']})\n",
        "print(\"Grouped Data:\\n\", grouped)\n",
        "# Pivot table\n",
        "pivot = df.pivot_table(index='Category', values='Value', aggfunc=['sum',\n",
        "'mean'])\n",
        "print(\"\\nPivot Table:\\n\", pivot)"
      ],
      "metadata": {
        "colab": {
          "base_uri": "https://localhost:8080/"
        },
        "id": "uvUmwQFyQXxT",
        "outputId": "82769541-5b61-494a-e2de-c62f0468712e"
      },
      "execution_count": 9,
      "outputs": [
        {
          "output_type": "stream",
          "name": "stdout",
          "text": [
            "Grouped Data:\n",
            "          Value      \n",
            "           sum  mean\n",
            "Category            \n",
            "A1          10  10.0\n",
            "B1          20  20.0\n",
            "C1          10  10.0\n",
            "D1          30  30.0\n",
            "D2          40  40.0\n",
            "\n",
            "Pivot Table:\n",
            "            sum  mean\n",
            "         Value Value\n",
            "Category            \n",
            "A1          10  10.0\n",
            "B1          20  20.0\n",
            "C1          10  10.0\n",
            "D1          30  30.0\n",
            "D2          40  40.0\n"
          ]
        }
      ]
    }
  ]
}